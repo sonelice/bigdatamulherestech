{
 "cells": [
  {
   "cell_type": "markdown",
   "metadata": {},
   "source": [
    "**Diferenças entre Pandas e Numpy:** "
   ]
  },
  {
   "cell_type": "markdown",
   "metadata": {},
   "source": [
    "Pandas:\n",
    "\n",
    "1. Melhor forma de trabalhar com dados tabulares (dataframe)\n",
    "2. as ferramentas poderosas são os comandos  DATAFRAME SERIES.\n",
    "3. consome mais memória.\n",
    "4. possui melhor desempenho se o número de linhas da matriz precissar ser maior que \n",
    "500k.\n",
    "5. oferece um recurso para visualizar tabelas 2d chamadas DATAFRAME.\n"
   ]
  },
  {
   "cell_type": "markdown",
   "metadata": {},
   "source": [
    "Numpy: \n",
    "1. melhor forma de trabalhar com  dados numéricos (série).\n",
    "2. A ferramenta poderosa é através dos comndos de ARRYS.\n",
    "3. mais eficiente em termos de memória.\n",
    "4. é mais eficiente quando o número de linhas do arrys é de 50k ou menos.\n",
    "5. trabalha com MATRIZES MULTIDIMENSIONAL\n"
   ]
  },
  {
   "cell_type": "code",
   "execution_count": null,
   "metadata": {
    "vscode": {
     "languageId": "plaintext"
    }
   },
   "outputs": [],
   "source": [
    "#PRÓXIMA AULA:\n",
    "#PESQUISA:\n",
    "#COMANDOS :\n",
    "\n",
    ".dtype\n",
    ".shape\n",
    ".zeros\n",
    ".ones\n",
    ".empty\n",
    ".arange\n",
    ".random\n",
    ".split\n",
    ".reshape\n",
    ".concatenate\n",
    ".describe\n"
   ]
  },
  {
   "cell_type": "markdown",
   "metadata": {},
   "source": [
    "# Seção 4\n",
    "\n",
    "*Criando uma tabela*\n",
    "\n",
    "|Aluno|Nota 1|Nota 2|Nota 3|\n",
    "|---|---|---|---|\n",
    "|João da Silva|10.0|5.5|4.5|\n",
    "|Maria|9.5|9|8.7|\n",
    "\n",
    "**Criando uma Lista Numerada**\n",
    "\n",
    "1. Módulo 1;\n",
    "2. Módulo 2;\n",
    "3. Módulo 3;\n",
    "4. Módulo 4;\n",
    "5. Módulo 5.\n",
    "\n",
    "**Criando uma Lista com Marcadores**\n",
    "\n",
    "* Módulo 1;\n",
    "* Módulo 1;\n",
    "* Módulo 2;\n",
    "* Módulo 3;\n",
    "* Módulo 4;\n",
    "* Módulo 5.\n",
    "\n",
    "**Colocando uma Imagem**\n",
    "\n",
    "![](https://encrypted-tbn0.gstatic.com/images?q=tbn:ANd9GcSgzPpvWLqznqgz7Y8DI-zZHDKLLzma9XHuXsz39I6vdQ&s)\n",
    "\n",
    "![](https://upload.wikimedia.org/wikipedia/pt/c/cd/Nazar%C3%A9_Confusa.jpg)\n",
    "\n",
    "![](https://s2.glbimg.com/yj8shGg_RGO8934ViubP2aSjYOA=/480x0/smart/filters:strip_icc()/i.s3.glbimg.com/v1/AUTH_08fbf48bc0524877943fe86e43087e7a/internal_photos/bs/2023/r/i/lPgLATQ7iBy4bu9wX5VQ/lanaexplicit-gretchen-meme-eu-teria-vergonha-disso-.jpg)"
   ]
  }
 ],
 "metadata": {
  "kernelspec": {
   "display_name": "Python 3",
   "language": "python",
   "name": "python3"
  },
  "language_info": {
   "codemirror_mode": {
    "name": "ipython",
    "version": 3
   },
   "file_extension": ".py",
   "mimetype": "text/x-python",
   "name": "python",
   "nbconvert_exporter": "python",
   "pygments_lexer": "ipython3",
   "version": "3.11.4"
  },
  "orig_nbformat": 4
 },
 "nbformat": 4,
 "nbformat_minor": 2
}
