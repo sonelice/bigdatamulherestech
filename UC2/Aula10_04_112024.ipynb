{
 "cells": [
  {
   "cell_type": "markdown",
   "metadata": {},
   "source": [
    "**variância, Desvio-Padrão e Coeficiente de variação:**"
   ]
  },
  {
   "cell_type": "code",
   "execution_count": 5,
   "metadata": {},
   "outputs": [],
   "source": [
    "import pandas as pd\n",
    "import numpy as np"
   ]
  },
  {
   "cell_type": "code",
   "execution_count": 6,
   "metadata": {},
   "outputs": [],
   "source": [
    "amostra=np.array([2500,3200,2700,3000,3400,3700,4500,4700,5000,5200,6000,7000])"
   ]
  },
  {
   "cell_type": "code",
   "execution_count": 7,
   "metadata": {},
   "outputs": [
    {
     "name": "stdout",
     "output_type": "stream",
     "text": [
      "4241.666666666667\n"
     ]
    }
   ],
   "source": [
    "media=np.mean(amostra)\n",
    "print(media)\n",
    "#media=sum(amostra)/len(amostra)\n"
   ]
  },
  {
   "cell_type": "code",
   "execution_count": 36,
   "metadata": {},
   "outputs": [
    {
     "data": {
      "text/plain": [
       "[np.float64(-1741.666666666667),\n",
       " np.float64(-1041.666666666667),\n",
       " np.float64(-1541.666666666667),\n",
       " np.float64(-1241.666666666667),\n",
       " np.float64(-841.666666666667),\n",
       " np.float64(-541.666666666667),\n",
       " np.float64(258.33333333333303),\n",
       " np.float64(458.33333333333303),\n",
       " np.float64(758.333333333333),\n",
       " np.float64(958.333333333333),\n",
       " np.float64(1758.333333333333),\n",
       " np.float64(2758.333333333333)]"
      ]
     },
     "metadata": {},
     "output_type": "display_data"
    }
   ],
   "source": [
    "#diferencas em relação à media\n",
    "diferencas=[x - media for x in amostra]\n",
    "display(diferencas)"
   ]
  },
  {
   "cell_type": "code",
   "execution_count": 38,
   "metadata": {},
   "outputs": [
    {
     "data": {
      "text/plain": [
       "[np.float64(3033402.777777779),\n",
       " np.float64(1085069.444444445),\n",
       " np.float64(2376736.111111112),\n",
       " np.float64(1541736.111111112),\n",
       " np.float64(708402.7777777783),\n",
       " np.float64(293402.7777777781),\n",
       " np.float64(66736.11111111095),\n",
       " np.float64(210069.44444444418),\n",
       " np.float64(575069.444444444),\n",
       " np.float64(918402.7777777772),\n",
       " np.float64(3091736.11111111),\n",
       " np.float64(7608402.777777776)]"
      ]
     },
     "metadata": {},
     "output_type": "display_data"
    }
   ],
   "source": [
    "#elevando as diferencas ao quadrado\n",
    "quadrados_das_diferencas=[x ** 2  for x in diferencas]\n",
    "display(quadrados_das_diferencas)"
   ]
  },
  {
   "cell_type": "code",
   "execution_count": 42,
   "metadata": {},
   "outputs": [
    {
     "name": "stdout",
     "output_type": "stream",
     "text": [
      "1792430.5555555553\n"
     ]
    }
   ],
   "source": [
    "#calcular a média dos quadrados das diferenças\n",
    "variancias=sum(quadrados_das_diferencas)/len(quadrados_das_diferencas)\n",
    "print(variancias)\n"
   ]
  },
  {
   "cell_type": "code",
   "execution_count": 47,
   "metadata": {},
   "outputs": [
    {
     "name": "stdout",
     "output_type": "stream",
     "text": [
      "1338.816849145377\n"
     ]
    }
   ],
   "source": [
    "#calcular o desvio-padrão (raiz quadrada da variância)\n",
    "desviopadrão=variancias**0.5\n",
    "print(desviopadrão)"
   ]
  },
  {
   "cell_type": "markdown",
   "metadata": {},
   "source": [
    "**Resumo Estatístico com numpy e Pandas:**"
   ]
  },
  {
   "cell_type": "code",
   "execution_count": 55,
   "metadata": {},
   "outputs": [
    {
     "name": "stdout",
     "output_type": "stream",
     "text": [
      "1792430.5555555557\n",
      "1338.8168491453773\n"
     ]
    }
   ],
   "source": [
    "#Numpy - cálculo da variancia\n",
    "variancia=np.var(amostra)\n",
    "print(variancia)\n",
    "\n",
    "#Numpy - cálculo do desvio-padrão\n",
    "desviopadrão=np.std(amostra)\n",
    "print(desviopadrão)"
   ]
  },
  {
   "cell_type": "code",
   "execution_count": 59,
   "metadata": {},
   "outputs": [
    {
     "name": "stdout",
     "output_type": "stream",
     "text": [
      "1792430.5555555557\n",
      "1338.8168491453773\n"
     ]
    }
   ],
   "source": [
    "\n",
    "\n",
    "#Pandas - cálculo da variância\n",
    "amostra2=(amostra)\n",
    "variancia=amostra2.var()\n",
    "print(variancia)\n",
    "\n",
    "#Numpy - cálculo do desvio-padrão\n",
    "desviopadrão=amostra2.std()\n",
    "print(desviopadrão)"
   ]
  },
  {
   "cell_type": "markdown",
   "metadata": {},
   "source": [
    "**coeficiente de variação e análise de dispersão**"
   ]
  },
  {
   "cell_type": "code",
   "execution_count": 60,
   "metadata": {},
   "outputs": [
    {
     "name": "stdout",
     "output_type": "stream",
     "text": [
      "0.3156346206236646\n"
     ]
    }
   ],
   "source": [
    "#coeficiente de variação (cv) é o desvio-padrão dividido pela média\n",
    "coef_variacao=desviopadrão/media\n",
    "print(coef_variacao)"
   ]
  },
  {
   "cell_type": "code",
   "execution_count": 61,
   "metadata": {},
   "outputs": [
    {
     "name": "stdout",
     "output_type": "stream",
     "text": [
      "9.962521373624465 %\n"
     ]
    }
   ],
   "source": [
    "#cálculo da distância da variância em relação a média\n",
    "distancia=variancia/(media**2)\n",
    "print(distancia*100,'%')"
   ]
  },
  {
   "cell_type": "markdown",
   "metadata": {},
   "source": [
    "como eu interpreto isso?\n",
    "1.distância<=10% minha dispersão é BAIXA;\n",
    "2. distância>10% e <=25% minha dispersão é MODERADA;\n",
    "3.distância >25%; minha dispersão é ALTA.\n"
   ]
  },
  {
   "cell_type": "markdown",
   "metadata": {},
   "source": [
    "ATIVIDADE: Atualize o resumo estatístico da sua amostra random:\n",
    "\n",
    "variância\n",
    "desvio-padrão\n",
    "coeficiente de variação\n",
    "dispersão\n"
   ]
  }
 ],
 "metadata": {
  "kernelspec": {
   "display_name": "amendoim",
   "language": "python",
   "name": "python3"
  },
  "language_info": {
   "codemirror_mode": {
    "name": "ipython",
    "version": 3
   },
   "file_extension": ".py",
   "mimetype": "text/x-python",
   "name": "python",
   "nbconvert_exporter": "python",
   "pygments_lexer": "ipython3",
   "version": "3.11.4"
  },
  "orig_nbformat": 4
 },
 "nbformat": 4,
 "nbformat_minor": 2
}
