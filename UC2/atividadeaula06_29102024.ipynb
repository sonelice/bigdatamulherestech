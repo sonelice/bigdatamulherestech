{
 "cells": [
  {
   "cell_type": "markdown",
   "metadata": {},
   "source": [
    "ATIVIDADE 1: (AULA)\n",
    "A partir do dataset trabalhado nesta aula, trace 3 perfis e os demonstre pelo display:\n",
    "\n",
    "Perfil 1: Pessoas sedentárias com dietas alimentares de até 2200 calorias; Perfil 2: Pessoas acima de 50 anos com hábitos muito bons de atividade física; Perfil 3: Pessoas com menos de 20 anos que participaram dos estudos nutricionais por mais de 1 mês.\n",
    "\n",
    "\n",
    "TIVIDADE 2: (GITHUB)\n",
    "Replique os processos de leitura, cópia e consultas exercitados em aula utilizando um dataset livre pesquisado por você (dê preferência a arquivos .csv, .xlsx ou .json).\n"
   ]
  },
  {
   "cell_type": "code",
   "execution_count": null,
   "metadata": {},
   "outputs": [],
   "source": []
  }
 ],
 "metadata": {
  "language_info": {
   "name": "python"
  },
  "orig_nbformat": 4
 },
 "nbformat": 4,
 "nbformat_minor": 2
}
