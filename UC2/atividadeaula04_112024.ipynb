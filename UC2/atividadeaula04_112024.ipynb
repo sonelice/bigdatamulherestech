{
 "cells": [
  {
   "cell_type": "markdown",
   "metadata": {},
   "source": [
    "ATIVIDADE: Atualize o resumo estatístico da sua amostra random:\n",
    "\n",
    "variância\n",
    "desvio-padrão\n",
    "coeficiente de variação\n",
    "dispersão"
   ]
  },
  {
   "cell_type": "code",
   "execution_count": 1,
   "metadata": {},
   "outputs": [],
   "source": [
    "import pandas as pd\n",
    "import numpy as np\n",
    "import random"
   ]
  },
  {
   "cell_type": "code",
   "execution_count": 10,
   "metadata": {},
   "outputs": [
    {
     "name": "stdout",
     "output_type": "stream",
     "text": [
      "[133, 244, 358, 130, 112, 428, 327, 208, 384, 113, 365, 231, 319, 134, 195, 416, 266, 323, 391, 373, 43, 201, 42, 354, 40, 14, 217, 114, 247, 332, 344, 252, 77, 289, 328, 170, 85, 427, 36, 154, 377, 380, 350, 349, 62, 302, 425, 40, 300, 244]\n",
      "[133 244 358 130 112 428 327 208 384 113 365 231 319 134 195 416 266 323\n",
      " 391 373  43 201  42 354  40  14 217 114 247 332 344 252  77 289 328 170\n",
      "  85 427  36 154 377 380 350 349  62 302 425  40 300 244]\n"
     ]
    }
   ],
   "source": [
    "amostra=[random.randint(1, 444) for I in range (50)]\n",
    "print(amostra)\n",
    "dados=np.array(amostra)\n",
    "print(dados)"
   ]
  },
  {
   "cell_type": "code",
   "execution_count": 6,
   "metadata": {},
   "outputs": [
    {
     "name": "stdout",
     "output_type": "stream",
     "text": [
      "244.3\n"
     ]
    }
   ],
   "source": [
    "media=np.mean(amostra)\n",
    "print(media)\n",
    "#media=sum(amostra)/len(amostra)"
   ]
  },
  {
   "cell_type": "code",
   "execution_count": 7,
   "metadata": {},
   "outputs": [
    {
     "name": "stdout",
     "output_type": "stream",
     "text": [
      "18118.129999999997\n",
      "134.6036032207162\n"
     ]
    }
   ],
   "source": [
    "#Numpy - cálculo da variancia\n",
    "variancia=np.var(amostra)\n",
    "print(variancia)\n",
    "\n",
    "#Numpy - cálculo do desvio-padrão\n",
    "desviopadrão=np.std(amostra)\n",
    "print(desviopadrão)"
   ]
  },
  {
   "cell_type": "code",
   "execution_count": 11,
   "metadata": {},
   "outputs": [
    {
     "name": "stdout",
     "output_type": "stream",
     "text": [
      "0.5509766812145567\n"
     ]
    }
   ],
   "source": [
    "#coeficiente de variação (cv) é o desvio-padrão dividido pela média\n",
    "coef_variacao=desviopadrão/media\n",
    "print(coef_variacao)"
   ]
  },
  {
   "cell_type": "code",
   "execution_count": 12,
   "metadata": {},
   "outputs": [
    {
     "name": "stdout",
     "output_type": "stream",
     "text": [
      "30.357530324220715 %\n"
     ]
    }
   ],
   "source": [
    "#cálculo da distância da variância em relação a média\n",
    "distancia=variancia/(media**2)\n",
    "print(distancia*100,'%')"
   ]
  }
 ],
 "metadata": {
  "kernelspec": {
   "display_name": "amendoim",
   "language": "python",
   "name": "python3"
  },
  "language_info": {
   "codemirror_mode": {
    "name": "ipython",
    "version": 3
   },
   "file_extension": ".py",
   "mimetype": "text/x-python",
   "name": "python",
   "nbconvert_exporter": "python",
   "pygments_lexer": "ipython3",
   "version": "3.11.4"
  },
  "orig_nbformat": 4
 },
 "nbformat": 4,
 "nbformat_minor": 2
}
