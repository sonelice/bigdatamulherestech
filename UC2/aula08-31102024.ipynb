{
 "cells": [
  {
   "cell_type": "markdown",
   "metadata": {},
   "source": [
    "Medidas de Tendência Central com Numpy:"
   ]
  },
  {
   "cell_type": "code",
   "execution_count": 1,
   "metadata": {},
   "outputs": [],
   "source": [
    "import numpy as np"
   ]
  },
  {
   "cell_type": "code",
   "execution_count": 2,
   "metadata": {},
   "outputs": [],
   "source": [
    "amostra=np.array([2500,3200,2700,3000,3400,3700,4500,4700,5000,5200,6000,7000])"
   ]
  },
  {
   "cell_type": "code",
   "execution_count": 3,
   "metadata": {},
   "outputs": [
    {
     "name": "stdout",
     "output_type": "stream",
     "text": [
      "Média: 4241.666666666667\n",
      "Mediana: 4100.0\n"
     ]
    }
   ],
   "source": [
    "media=np.mean(amostra)\n",
    "mediana=np.median(amostra)\n",
    "print(f'Média: {media}')\n",
    "print(f'Mediana: {mediana}')"
   ]
  },
  {
   "cell_type": "code",
   "execution_count": 4,
   "metadata": {},
   "outputs": [
    {
     "name": "stdout",
     "output_type": "stream",
     "text": [
      "Distância entre média e mediana: 3.46%\n"
     ]
    }
   ],
   "source": [
    "distancia=(media-mediana)/mediana*100\n",
    "print (f'Distância entre média e mediana: {distancia:.2f}%')"
   ]
  },
  {
   "cell_type": "markdown",
   "metadata": {},
   "source": [
    "Como eu devo interpretar isso?\n",
    "\n",
    "Se:\n",
    "\n",
    "1. Distância <= |10%|: a minha média é CONFIÁVEL;\n",
    "\n",
    "2. |10%| < Distância < |25%|: existe uma influência MODERADA de valores extremos;\n",
    "\n",
    "3. Distância >= |25%|: existe ALTA influência dos valores extremos."
   ]
  },
  {
   "cell_type": "markdown",
   "metadata": {},
   "source": [
    "ATIVIDADE ASSISTIDA: Crie um array com 50 números aleatórios e repita"
   ]
  },
  {
   "cell_type": "markdown",
   "metadata": {},
   "source": [
    "a análise sobre a distância calculada anterior para a nova amostra."
   ]
  },
  {
   "cell_type": "code",
   "execution_count": 5,
   "metadata": {},
   "outputs": [
    {
     "name": "stdout",
     "output_type": "stream",
     "text": [
      "Média: 4241.666666666667\n",
      "Mediana: 4100.0\n",
      "Distância entre média e mediana: 3.46%\n",
      "Primeiro Quartil (Q1):3150.0\n",
      "Segundo Quartil (Q2):4100.0\n",
      "Terceiro Quartil (Q3):5050.0\n"
     ]
    }
   ],
   "source": [
    "q1=np.percentile(amostra,25) # o primeiro quartil representa 25% do total da amostra\n",
    "q2=np.percentile(amostra,50) # mediana pode ser interpretada como o seu segundo quartil (quartil 50)\n",
    "q3=np.percentile(amostra,75) # o terceiro quartil representa 75% do total da amostra\n",
    "\n",
    "#Resumo Estatístico:\n",
    "print(f'Média: {media}')\n",
    "print(f'Mediana: {mediana}')\n",
    "print (f'Distância entre média e mediana: {distancia:.2f}%')\n",
    "print(f\"Primeiro Quartil (Q1):{q1}\")\n",
    "print(f\"Segundo Quartil (Q2):{q2}\")\n",
    "print(f\"Terceiro Quartil (Q3):{q3}\")"
   ]
  },
  {
   "cell_type": "code",
   "execution_count": 6,
   "metadata": {},
   "outputs": [
    {
     "name": "stdout",
     "output_type": "stream",
     "text": [
      "A média está DENTRO do intervalo interquartil, o que sugere confiabilidade.\n"
     ]
    }
   ],
   "source": [
    "#INTERVALO INTERQUARTIL:\n",
    "\n",
    "if q1 <= media <= q3:\n",
    "    print(\"A média está DENTRO do intervalo interquartil, o que sugere confiabilidade.\")\n",
    "else:\n",
    "    print(\"A média está FORA do intervalo interquartil, o que sugere MENOS confiabilidade.\")"
   ]
  },
  {
   "cell_type": "code",
   "execution_count": 7,
   "metadata": {},
   "outputs": [
    {
     "name": "stdout",
     "output_type": "stream",
     "text": [
      "Média: 4241.666666666667\n",
      "Mediana: 4100.0\n",
      "Distância entre média e mediana: 3.46%\n",
      "Primeiro Quartil (Q1):3150.0\n",
      "Segundo Quartil (Q2):4100.0\n",
      "Terceiro Quartil (Q3):5050.0\n",
      "Intervalo InterQuartil:1900.0\n",
      "Limite Superior:7900.0\n",
      "Limite Inferior:300.0\n"
     ]
    }
   ],
   "source": [
    "#Cálculos para verificação do Intervalo InterQuartil (IQR) e seus Limites:\n",
    "\n",
    "iqr=q3-q1\n",
    "limite_superior=q3+(1.5*iqr)\n",
    "limite_inferior=q1-(1.5*iqr)\n",
    "\n",
    "#Resumo Estatístico:\n",
    "print(f'Média: {media}')\n",
    "print(f'Mediana: {mediana}')\n",
    "print (f'Distância entre média e mediana: {distancia:.2f}%')\n",
    "print(f\"Primeiro Quartil (Q1):{q1}\")\n",
    "print(f\"Segundo Quartil (Q2):{q2}\")\n",
    "print(f\"Terceiro Quartil (Q3):{q3}\")\n",
    "print(f\"Intervalo InterQuartil:{iqr}\")\n",
    "print(f\"Limite Superior:{limite_superior}\")\n",
    "print(f\"Limite Inferior:{limite_inferior}\")"
   ]
  }
 ],
 "metadata": {
  "kernelspec": {
   "display_name": "amendoim",
   "language": "python",
   "name": "python3"
  },
  "language_info": {
   "codemirror_mode": {
    "name": "ipython",
    "version": 3
   },
   "file_extension": ".py",
   "mimetype": "text/x-python",
   "name": "python",
   "nbconvert_exporter": "python",
   "pygments_lexer": "ipython3",
   "version": "3.11.4"
  },
  "orig_nbformat": 4
 },
 "nbformat": 4,
 "nbformat_minor": 2
}
