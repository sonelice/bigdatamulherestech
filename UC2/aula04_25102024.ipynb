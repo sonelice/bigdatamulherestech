{
 "cells": [
  {
   "cell_type": "markdown",
   "metadata": {},
   "source": [
    "***Importação das Bibliotecas:"
   ]
  },
  {
   "cell_type": "code",
   "execution_count": 1,
   "metadata": {},
   "outputs": [],
   "source": [
    "import pandas as pd\n",
    "import numpy as np"
   ]
  },
  {
   "cell_type": "markdown",
   "metadata": {},
   "source": [
    "Criação de um Array a partir de uma lista:"
   ]
  },
  {
   "cell_type": "code",
   "execution_count": 2,
   "metadata": {},
   "outputs": [
    {
     "name": "stdout",
     "output_type": "stream",
     "text": [
      "[1 2 3 4 5 6]\n"
     ]
    }
   ],
   "source": [
    "lista1=[1,2,3,4,5,6]\n",
    "array1=np.array(lista1)\n",
    "print(array1)"
   ]
  },
  {
   "cell_type": "markdown",
   "metadata": {},
   "source": [
    "Principais Funções para Definição de Arrays partindo do Zero:"
   ]
  },
  {
   "cell_type": "code",
   "execution_count": 3,
   "metadata": {},
   "outputs": [
    {
     "name": "stdout",
     "output_type": "stream",
     "text": [
      "int64\n"
     ]
    }
   ],
   "source": [
    "print(array1.dtype)"
   ]
  },
  {
   "cell_type": "code",
   "execution_count": 4,
   "metadata": {},
   "outputs": [
    {
     "name": "stdout",
     "output_type": "stream",
     "text": [
      "(6,)\n"
     ]
    }
   ],
   "source": [
    "print(array1.shape)"
   ]
  },
  {
   "cell_type": "code",
   "execution_count": 5,
   "metadata": {},
   "outputs": [
    {
     "name": "stdout",
     "output_type": "stream",
     "text": [
      "[[0. 0. 0.]\n",
      " [0. 0. 0.]\n",
      " [0. 0. 0.]\n",
      " [0. 0. 0.]]\n"
     ]
    }
   ],
   "source": [
    "zeros=np.zeros((4,3))\n",
    "print(zeros)"
   ]
  },
  {
   "cell_type": "code",
   "execution_count": 6,
   "metadata": {},
   "outputs": [
    {
     "name": "stdout",
     "output_type": "stream",
     "text": [
      "[[1. 1. 1.]\n",
      " [1. 1. 1.]\n",
      " [1. 1. 1.]\n",
      " [1. 1. 1.]]\n"
     ]
    }
   ],
   "source": [
    "number_one=np.ones((4,3))\n",
    "print(number_one)"
   ]
  },
  {
   "cell_type": "code",
   "execution_count": 7,
   "metadata": {},
   "outputs": [
    {
     "name": "stdout",
     "output_type": "stream",
     "text": [
      "[[6.95166047e-310 6.95166047e-310 6.95166047e-310 1.69119330e-306]\n",
      " [1.78022342e-306 1.05700345e-307 8.45568130e-307 1.69117157e-306]\n",
      " [6.23059726e-307 8.90100844e-307 8.34445562e-308 7.56601165e-307]\n",
      " [7.56591659e-307 2.22523004e-307 1.78020440e-306 8.01089062e-307]]\n"
     ]
    }
   ],
   "source": [
    "vazio=np.empty((4,4))\n",
    "print(vazio)"
   ]
  },
  {
   "cell_type": "code",
   "execution_count": 8,
   "metadata": {},
   "outputs": [
    {
     "name": "stdout",
     "output_type": "stream",
     "text": [
      "[-100  -90  -80  -70  -60  -50  -40  -30  -20]\n"
     ]
    }
   ],
   "source": [
    "sequencia=np.arange(-100,-10,10)\n",
    "print(sequencia)"
   ]
  },
  {
   "cell_type": "code",
   "execution_count": 9,
   "metadata": {},
   "outputs": [
    {
     "name": "stdout",
     "output_type": "stream",
     "text": [
      "[[0.19564207 0.82725655 0.1834793 ]\n",
      " [0.4736723  0.41864289 0.62380254]]\n"
     ]
    }
   ],
   "source": [
    "aleatorio=np.random.rand(2,3)\n",
    "print(aleatorio)"
   ]
  },
  {
   "cell_type": "code",
   "execution_count": 10,
   "metadata": {},
   "outputs": [
    {
     "name": "stdout",
     "output_type": "stream",
     "text": [
      "[[1 2]\n",
      " [3 4]\n",
      " [5 6]]\n"
     ]
    }
   ],
   "source": [
    "array2=array1.reshape((3,2))\n",
    "print(array2)"
   ]
  },
  {
   "cell_type": "code",
   "execution_count": 11,
   "metadata": {},
   "outputs": [
    {
     "name": "stdout",
     "output_type": "stream",
     "text": [
      "[array([[1, 2]]), array([[3, 4]]), array([[5, 6]])]\n"
     ]
    }
   ],
   "source": [
    "quebra=np.split(array2,3)\n",
    "print(quebra)"
   ]
  },
  {
   "cell_type": "code",
   "execution_count": 12,
   "metadata": {},
   "outputs": [
    {
     "name": "stdout",
     "output_type": "stream",
     "text": [
      "[1 2] [3 4]\n",
      "[1 2 3 4]\n"
     ]
    }
   ],
   "source": [
    "array3=np.array([1,2])\n",
    "array4=np.array([3,4])\n",
    "print(array3,array4)\n",
    "uniao=np.concatenate((array3,array4))\n",
    "print(uniao)"
   ]
  },
  {
   "cell_type": "markdown",
   "metadata": {},
   "source": [
    "Operações com Séries Pandas:"
   ]
  },
  {
   "cell_type": "markdown",
   "metadata": {},
   "source": [
    "Criação:"
   ]
  },
  {
   "cell_type": "code",
   "execution_count": 13,
   "metadata": {},
   "outputs": [
    {
     "name": "stdout",
     "output_type": "stream",
     "text": [
      "a    10\n",
      "b    20\n",
      "c    30\n",
      "dtype: int64\n"
     ]
    }
   ],
   "source": [
    "serie1=pd.Series([10,20,30],index=['a','b','c'])\n",
    "print(serie1)"
   ]
  },
  {
   "cell_type": "markdown",
   "metadata": {},
   "source": [
    "Seleção por Índice:"
   ]
  },
  {
   "cell_type": "code",
   "execution_count": 14,
   "metadata": {},
   "outputs": [
    {
     "name": "stdout",
     "output_type": "stream",
     "text": [
      "10\n",
      "--------\n",
      "a    10\n",
      "dtype: int64\n",
      "--------\n",
      "a    10\n",
      "c    30\n",
      "dtype: int64\n"
     ]
    }
   ],
   "source": [
    "print(serie1['a'])\n",
    "print('--------')\n",
    "print(serie1[['a']])\n",
    "print('--------')\n",
    "print(serie1[['a','c']])"
   ]
  },
  {
   "cell_type": "markdown",
   "metadata": {},
   "source": [
    "Operações de Filtragem e Aritméticas:"
   ]
  },
  {
   "cell_type": "code",
   "execution_count": 15,
   "metadata": {},
   "outputs": [
    {
     "name": "stdout",
     "output_type": "stream",
     "text": [
      "b    20\n",
      "c    30\n",
      "dtype: int64\n",
      "--------\n",
      "a    30\n",
      "b    60\n",
      "c    90\n",
      "dtype: int64\n"
     ]
    }
   ],
   "source": [
    "filtro1=serie1[serie1>15]\n",
    "print(filtro1)\n",
    "print('--------')\n",
    "serie2=serie1*3\n",
    "print(serie2)"
   ]
  },
  {
   "cell_type": "code",
   "execution_count": 16,
   "metadata": {},
   "outputs": [
    {
     "name": "stdout",
     "output_type": "stream",
     "text": [
      "0     6\n",
      "1     8\n",
      "2    10\n",
      "3    12\n",
      "dtype: int64\n",
      "--------\n",
      "0   -4\n",
      "1   -4\n",
      "2   -4\n",
      "3   -4\n",
      "dtype: int64\n",
      "--------\n",
      "0     5\n",
      "1    12\n",
      "2    21\n",
      "3    32\n",
      "dtype: int64\n",
      "--------\n",
      "0    0.200000\n",
      "1    0.333333\n",
      "2    0.428571\n",
      "3    0.500000\n",
      "dtype: float64\n"
     ]
    }
   ],
   "source": [
    "serie3=pd.Series([1,2,3,4])\n",
    "serie4=pd.Series([5,6,7,8])\n",
    "\n",
    "#Operações Fundamentais:\n",
    "print(serie3+serie4)\n",
    "print('--------')\n",
    "print(serie3-serie4)\n",
    "print('--------')\n",
    "print(serie3*serie4)\n",
    "print('--------')\n",
    "print(serie3/serie4)"
   ]
  },
  {
   "cell_type": "code",
   "execution_count": 17,
   "metadata": {},
   "outputs": [
    {
     "name": "stdout",
     "output_type": "stream",
     "text": [
      "0    10.0\n",
      "1     NaN\n",
      "2    30.0\n",
      "dtype: float64\n"
     ]
    }
   ],
   "source": [
    "#Suporte a Valores Nulos:\n",
    "\n",
    "serievazia=pd.Series([10,np.nan,30])\n",
    "print(serievazia) #NaN = 'Null as Number'"
   ]
  },
  {
   "cell_type": "code",
   "execution_count": 18,
   "metadata": {},
   "outputs": [
    {
     "name": "stdout",
     "output_type": "stream",
     "text": [
      "0    11.0\n",
      "1     NaN\n",
      "2    33.0\n",
      "3     NaN\n",
      "dtype: float64\n",
      "--------\n",
      "0    -9.0\n",
      "1     NaN\n",
      "2   -27.0\n",
      "3     NaN\n",
      "dtype: float64\n",
      "--------\n",
      "0    10.0\n",
      "1     NaN\n",
      "2    90.0\n",
      "3     NaN\n",
      "dtype: float64\n",
      "--------\n",
      "0    0.1\n",
      "1    NaN\n",
      "2    0.1\n",
      "3    NaN\n",
      "dtype: float64\n"
     ]
    }
   ],
   "source": [
    "print(serie3+serievazia)\n",
    "print('--------')\n",
    "print(serie3-serievazia)\n",
    "print('--------')\n",
    "print(serie3*serievazia)\n",
    "print('--------')\n",
    "print(serie3/serievazia)"
   ]
  }
 ],
 "metadata": {
  "kernelspec": {
   "display_name": "amendoim",
   "language": "python",
   "name": "python3"
  },
  "language_info": {
   "codemirror_mode": {
    "name": "ipython",
    "version": 3
   },
   "file_extension": ".py",
   "mimetype": "text/x-python",
   "name": "python",
   "nbconvert_exporter": "python",
   "pygments_lexer": "ipython3",
   "version": "3.11.4"
  },
  "orig_nbformat": 4
 },
 "nbformat": 4,
 "nbformat_minor": 2
}
