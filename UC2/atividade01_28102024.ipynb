{
 "cells": [
  {
   "cell_type": "markdown",
   "metadata": {},
   "source": [
    "#Atividade 1\n",
    "crie um array unidimensional comos números de 1 a 12. transforme este array\n",
    "em uma matriz de 3 linhas e 4 colunas.\n",
    "\n",
    "(DESAFIO: Aplique a transposição da matriz para criar as dimensões em 4x3 (.transpose) e, \n",
    "em seguida, crie um array unidimencional (.flatten))."
   ]
  },
  {
   "cell_type": "code",
   "execution_count": 7,
   "metadata": {},
   "outputs": [
    {
     "name": "stdout",
     "output_type": "stream",
     "text": [
      "Array Unidimensional:\n",
      "[ 1  2  3  4  5  6  7  8  9 10 11 12]\n",
      "\n",
      "Matriz 3x4:\n",
      "[[ 1  2  3  4]\n",
      " [ 5  6  7  8]\n",
      " [ 9 10 11 12]]\n",
      "\n",
      "Matriz Transposta 4x3:\n",
      "[[ 1  5  9]\n",
      " [ 2  6 10]\n",
      " [ 3  7 11]\n",
      " [ 4  8 12]]\n",
      "\n",
      "Array Unidimensional a partir da matriz transposta:\n",
      "[ 1  5  9  2  6 10  3  7 11  4  8 12]\n"
     ]
    }
   ],
   "source": [
    "import numpy as np\n",
    "\n",
    "# array unidimensional\n",
    "array_unidimensional = np.arange(1, 13)\n",
    "\n",
    "# matriz de 3 linhas e 4 colunas\n",
    "matriz = array_unidimensional.reshape(3, 4)\n",
    "\n",
    "# Transposição da matriz\n",
    "matriz_transposta = matriz.T\n",
    "\n",
    "# Criação de um array unidimensional a partir da matriz transposta\n",
    "array_final = matriz_transposta.flatten()\n",
    "\n",
    "# Resultados\n",
    "print(\"Array Unidimensional:\")\n",
    "print(array_unidimensional)\n",
    "print(\"\\nMatriz 3x4:\")\n",
    "print(matriz)\n",
    "print(\"\\nMatriz Transposta 4x3:\")\n",
    "print(matriz_transposta)\n",
    "print(\"\\nArray Unidimensional a partir da matriz transposta:\")\n",
    "print(array_final)\n"
   ]
  },
  {
   "cell_type": "markdown",
   "metadata": {},
   "source": [
    "Atividade 2 (GITHUB):\n",
    "Leia o arquivo ClassicDisco.csv  trabalho em aulas anteriores e aplique o comando .describe()\n",
    "para gerar uma análise estatística prévia dos dados. Não esqueça dos comandos para verificar as primeiras e últimas linhas do dataset omo apoio nessa  atividade."
   ]
  },
  {
   "cell_type": "code",
   "execution_count": null,
   "metadata": {},
   "outputs": [],
   "source": [
    "##EXEMPLO DE LEITURA:\n",
    "dados=pd.read_csv('bloco-sob-contrato')\n",
    "print(dados.head())"
   ]
  }
 ],
 "metadata": {
  "kernelspec": {
   "display_name": "amendoim",
   "language": "python",
   "name": "python3"
  },
  "language_info": {
   "codemirror_mode": {
    "name": "ipython",
    "version": 3
   },
   "file_extension": ".py",
   "mimetype": "text/x-python",
   "name": "python",
   "nbconvert_exporter": "python",
   "pygments_lexer": "ipython3",
   "version": "3.11.4"
  },
  "orig_nbformat": 4
 },
 "nbformat": 4,
 "nbformat_minor": 2
}
