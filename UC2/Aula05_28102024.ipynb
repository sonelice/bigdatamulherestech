{
 "cells": [
  {
   "cell_type": "markdown",
   "metadata": {},
   "source": [
    "Conversões entre Arrays e Series:"
   ]
  },
  {
   "cell_type": "code",
   "execution_count": 4,
   "metadata": {},
   "outputs": [],
   "source": [
    "import pandas as pd\n",
    "import numpy as np"
   ]
  },
  {
   "cell_type": "code",
   "execution_count": 5,
   "metadata": {},
   "outputs": [
    {
     "name": "stdout",
     "output_type": "stream",
     "text": [
      "[10 20 30]\n",
      "0    10\n",
      "1    20\n",
      "2    30\n",
      "dtype: int64\n"
     ]
    }
   ],
   "source": [
    "#convertendo um array pra uma série:\n",
    "arr1=np.array([10,20,30])\n",
    "serie1=pd.Series(arr1)\n",
    "print(arr1)\n",
    "print(serie1)"
   ]
  },
  {
   "cell_type": "code",
   "execution_count": 6,
   "metadata": {},
   "outputs": [
    {
     "name": "stdout",
     "output_type": "stream",
     "text": [
      "[10 20 30]\n"
     ]
    }
   ],
   "source": [
    "#convertendo uma série pra um array:\n",
    "arr2=serie1.to_numpy()\n",
    "print(arr2)"
   ]
  },
  {
   "cell_type": "markdown",
   "metadata": {},
   "source": [
    "Dataframes e suas Principais Funções:"
   ]
  },
  {
   "cell_type": "code",
   "execution_count": 7,
   "metadata": {},
   "outputs": [
    {
     "name": "stdout",
     "output_type": "stream",
     "text": [
      "[[1 2]\n",
      " [3 4]]\n",
      "   A  B\n",
      "0  1  2\n",
      "1  3  4\n"
     ]
    }
   ],
   "source": [
    "#criação:\n",
    "arr3=np.array([[1,2],[3,4]])\n",
    "df_arr=pd.DataFrame(arr3, columns=['A','B'])\n",
    "print(arr3)\n",
    "print(df_arr)"
   ]
  },
  {
   "cell_type": "code",
   "execution_count": 8,
   "metadata": {},
   "outputs": [
    {
     "name": "stdout",
     "output_type": "stream",
     "text": [
      "0    1\n",
      "1    3\n",
      "Name: A, dtype: int64\n"
     ]
    }
   ],
   "source": [
    "#transformando uma coluna em uma série:\n",
    "coluna_serie=df_arr['A']\n",
    "print(coluna_serie)"
   ]
  },
  {
   "cell_type": "code",
   "execution_count": 9,
   "metadata": {},
   "outputs": [
    {
     "name": "stdout",
     "output_type": "stream",
     "text": [
      "Cidade\n",
      "RJ    3\n",
      "SP    2\n",
      "MG    1\n",
      "ES    1\n",
      "Name: count, dtype: int64\n"
     ]
    }
   ],
   "source": [
    "#contagem de valores:\n",
    "estados=pd.DataFrame({'Cidade':['RJ','SP','MG','ES','RJ','RJ','SP']})\n",
    "print(estados['Cidade'].value_counts())"
   ]
  },
  {
   "cell_type": "code",
   "execution_count": 10,
   "metadata": {},
   "outputs": [
    {
     "name": "stdout",
     "output_type": "stream",
     "text": [
      "80\n",
      "8.88888888888889\n",
      "10.0\n",
      "           Notas\n",
      "count   9.000000\n",
      "mean    8.888889\n",
      "std     4.136558\n",
      "min     2.000000\n",
      "25%     6.000000\n",
      "50%    10.000000\n",
      "75%    12.000000\n",
      "max    14.000000\n"
     ]
    }
   ],
   "source": [
    "#Cálculos Estatísticos:\n",
    "notas=pd.DataFrame({'Notas':[2,4,6,8,10,12,12,12,14]})\n",
    "print(notas['Notas'].sum()) #soma\n",
    "print(notas['Notas'].mean()) #média\n",
    "print(notas['Notas'].median()) #mediana\n",
    "print(notas.describe()) #resumo das estatísticas"
   ]
  },
  {
   "cell_type": "markdown",
   "metadata": {},
   "source": []
  },
  {
   "cell_type": "code",
   "execution_count": null,
   "metadata": {},
   "outputs": [],
   "source": [
    "##EXEMPLO DE LEITURA:\n",
    "dados=pd.read_csv('blocos-sob-contrato-jan.csv')\n",
    "print(dados.head())\n",
    "estatistica=dados.describe()\n",
    "print(estatistica)"
   ]
  }
 ],
 "metadata": {
  "kernelspec": {
   "display_name": "amendoim",
   "language": "python",
   "name": "python3"
  },
  "language_info": {
   "codemirror_mode": {
    "name": "ipython",
    "version": 3
   },
   "file_extension": ".py",
   "mimetype": "text/x-python",
   "name": "python",
   "nbconvert_exporter": "python",
   "pygments_lexer": "ipython3",
   "version": "3.11.4"
  },
  "orig_nbformat": 4
 },
 "nbformat": 4,
 "nbformat_minor": 2
}
